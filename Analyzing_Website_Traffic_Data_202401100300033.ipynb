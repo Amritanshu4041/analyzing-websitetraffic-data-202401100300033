{
  "nbformat": 4,
  "nbformat_minor": 0,
  "metadata": {
    "colab": {
      "provenance": []
    },
    "kernelspec": {
      "name": "python3",
      "display_name": "Python 3"
    },
    "language_info": {
      "name": "python"
    }
  },
  "cells": [
    {
      "cell_type": "code",
      "source": [
        "import pandas as pd\n",
        "import matplotlib.pyplot as plt\n",
        "import seaborn as sns\n",
        "import plotly.express as px\n",
        "\n",
        "# Load the data (replace with your file path)\n",
        "url = 'https://raw.githubusercontent.com/datablist/sample-csv-files/main/files/website_traffic.csv'\n",
        "df = pd.read_csv(url)"
      ],
      "metadata": {
        "id": "HAS2k_lUkXok"
      },
      "execution_count": null,
      "outputs": []
    },
    {
      "cell_type": "code",
      "source": [
        "# Display data overview\n",
        "df.info()\n",
        "df.head()\n",
        "\n",
        "# Convert 'date' to datetime format\n",
        "df['date'] = pd.to_datetime(df['date'])\n",
        "\n",
        "# Handle missing values\n",
        "df.fillna(0, inplace=True)\n",
        "\n",
        "# Traffic trends over time\n",
        "plt.figure(figsize=(12, 6))\n",
        "sns.lineplot(x='date', y='visitors', data=df, label='Visitors')\n",
        "sns.lineplot(x='date', y='pageviews', data=df, label='Pageviews')\n",
        "plt.title('Website Traffic Trends Over Time')\n",
        "plt.xlabel('Date')\n",
        "plt.ylabel('Count')\n",
        "plt.legend()\n",
        "plt.grid(True)\n",
        "plt.show()"
      ],
      "metadata": {
        "id": "8Xs8TUNCkhHV"
      },
      "execution_count": null,
      "outputs": []
    },
    {
      "cell_type": "code",
      "source": [
        "# Traffic sources breakdown\n",
        "plt.figure(figsize=(8, 6))\n",
        "source_counts = df['source'].value_counts()\n",
        "sns.barplot(x=source_counts.index, y=source_counts.values)\n",
        "plt.title('Traffic Sources Breakdown')\n",
        "plt.xlabel('Source')\n",
        "plt.ylabel('Count')\n",
        "plt.show()\n",
        "\n",
        "# Interactive plot using Plotly\n",
        "fig = px.line(df, x='date', y=['visitors', 'pageviews'], title='Interactive Traffic Trends')\n",
        "fig.show()\n",
        "\n",
        "# Identifying peak traffic days\n",
        "peak_traffic = df.sort_values(by='visitors', ascending=False).head(5)\n",
        "print(\"Top 5 Peak Traffic Days:\\n\", peak_traffic[['date', 'visitors']])\n",
        "\n",
        "# Insights and Recommendations\n",
        "print(\"\\nInsights:\")\n",
        "print(\"1. Identify which days experience peak traffic and analyze contributing factors.\")\n",
        "print(\"2. Assess traffic sources to optimize marketing strategies.\")\n",
        "print(\"3. Track seasonal patterns or sudden spikes for further investigation.\")\n"
      ],
      "metadata": {
        "id": "EGBYSebBkvkS"
      },
      "execution_count": null,
      "outputs": []
    }
  ]
}